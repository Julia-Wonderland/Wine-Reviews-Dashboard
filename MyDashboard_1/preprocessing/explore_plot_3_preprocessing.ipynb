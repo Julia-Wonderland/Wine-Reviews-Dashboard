{
 "cells": [
  {
   "cell_type": "code",
   "execution_count": 1,
   "id": "6ac60e58",
   "metadata": {},
   "outputs": [],
   "source": [
    "import numpy as np\n",
    "import pandas as pd\n",
    "import os\n"
   ]
  },
  {
   "cell_type": "code",
   "execution_count": 3,
   "id": "c188ec89",
   "metadata": {},
   "outputs": [
    {
     "data": {
      "text/plain": [
       "'c:\\\\Users\\\\igors\\\\OneDrive\\\\Documents\\\\studia\\\\Sem4-IgorS\\\\DV\\\\lab4\\\\Wine-Reviews-Dashboard\\\\MyDashboard_1'"
      ]
     },
     "execution_count": 3,
     "metadata": {},
     "output_type": "execute_result"
    }
   ],
   "source": [
    "parent = os.path.dirname(os.getcwd())\n",
    "parent"
   ]
  },
  {
   "cell_type": "code",
   "execution_count": 4,
   "id": "2638f4a5",
   "metadata": {},
   "outputs": [
    {
     "data": {
      "text/html": [
       "<div>\n",
       "<style scoped>\n",
       "    .dataframe tbody tr th:only-of-type {\n",
       "        vertical-align: middle;\n",
       "    }\n",
       "\n",
       "    .dataframe tbody tr th {\n",
       "        vertical-align: top;\n",
       "    }\n",
       "\n",
       "    .dataframe thead th {\n",
       "        text-align: right;\n",
       "    }\n",
       "</style>\n",
       "<table border=\"1\" class=\"dataframe\">\n",
       "  <thead>\n",
       "    <tr style=\"text-align: right;\">\n",
       "      <th></th>\n",
       "      <th>Unnamed: 0</th>\n",
       "      <th>country</th>\n",
       "      <th>description</th>\n",
       "      <th>designation</th>\n",
       "      <th>points</th>\n",
       "      <th>price</th>\n",
       "      <th>province</th>\n",
       "      <th>region_1</th>\n",
       "      <th>region_2</th>\n",
       "      <th>taster_name</th>\n",
       "      <th>taster_twitter_handle</th>\n",
       "      <th>title</th>\n",
       "      <th>variety</th>\n",
       "      <th>winery</th>\n",
       "      <th>embedding</th>\n",
       "      <th>pca_x</th>\n",
       "      <th>pca_y</th>\n",
       "      <th>tsne_x</th>\n",
       "      <th>tsne_y</th>\n",
       "    </tr>\n",
       "  </thead>\n",
       "  <tbody>\n",
       "    <tr>\n",
       "      <th>0</th>\n",
       "      <td>4</td>\n",
       "      <td>US</td>\n",
       "      <td>Much like the regular bottling from 2012, this...</td>\n",
       "      <td>Vintner's Reserve Wild Child Block</td>\n",
       "      <td>87</td>\n",
       "      <td>65.0</td>\n",
       "      <td>Oregon</td>\n",
       "      <td>Willamette Valley</td>\n",
       "      <td>Willamette Valley</td>\n",
       "      <td>Paul Gregutt</td>\n",
       "      <td>@paulgwine</td>\n",
       "      <td>Sweet Cheeks 2012 Vintner's Reserve Wild Child...</td>\n",
       "      <td>Pinot Noir</td>\n",
       "      <td>Sweet Cheeks</td>\n",
       "      <td>[-3.17193456e-02  6.15179986e-02 -3.06415521e-...</td>\n",
       "      <td>-0.265071</td>\n",
       "      <td>-0.045110</td>\n",
       "      <td>-44.432747</td>\n",
       "      <td>-20.789902</td>\n",
       "    </tr>\n",
       "    <tr>\n",
       "      <th>1</th>\n",
       "      <td>10</td>\n",
       "      <td>US</td>\n",
       "      <td>Soft, supple plum envelopes an oaky structure ...</td>\n",
       "      <td>Mountain Cuvée</td>\n",
       "      <td>87</td>\n",
       "      <td>19.0</td>\n",
       "      <td>California</td>\n",
       "      <td>Napa Valley</td>\n",
       "      <td>Napa</td>\n",
       "      <td>Virginie Boone</td>\n",
       "      <td>@vboone</td>\n",
       "      <td>Kirkland Signature 2011 Mountain Cuvée Caberne...</td>\n",
       "      <td>Cabernet Sauvignon</td>\n",
       "      <td>Kirkland Signature</td>\n",
       "      <td>[ 4.91408370e-02 -9.19872969e-02 -2.56193969e-...</td>\n",
       "      <td>0.266994</td>\n",
       "      <td>-0.159955</td>\n",
       "      <td>49.794857</td>\n",
       "      <td>-19.789526</td>\n",
       "    </tr>\n",
       "    <tr>\n",
       "      <th>2</th>\n",
       "      <td>23</td>\n",
       "      <td>US</td>\n",
       "      <td>This wine from the Geneseo district offers aro...</td>\n",
       "      <td>Signature Selection</td>\n",
       "      <td>87</td>\n",
       "      <td>22.0</td>\n",
       "      <td>California</td>\n",
       "      <td>Paso Robles</td>\n",
       "      <td>Central Coast</td>\n",
       "      <td>Matt Kettmann</td>\n",
       "      <td>@mattkettmann</td>\n",
       "      <td>Bianchi 2011 Signature Selection Merlot (Paso ...</td>\n",
       "      <td>Merlot</td>\n",
       "      <td>Bianchi</td>\n",
       "      <td>[ 2.79283989e-02 -4.42790389e-02 -1.00948021e-...</td>\n",
       "      <td>0.157790</td>\n",
       "      <td>0.126469</td>\n",
       "      <td>29.948954</td>\n",
       "      <td>13.420984</td>\n",
       "    </tr>\n",
       "    <tr>\n",
       "      <th>3</th>\n",
       "      <td>25</td>\n",
       "      <td>US</td>\n",
       "      <td>Oak and earth intermingle around robust aromas...</td>\n",
       "      <td>King Ridge Vineyard</td>\n",
       "      <td>87</td>\n",
       "      <td>69.0</td>\n",
       "      <td>California</td>\n",
       "      <td>Sonoma Coast</td>\n",
       "      <td>Sonoma</td>\n",
       "      <td>Virginie Boone</td>\n",
       "      <td>@vboone</td>\n",
       "      <td>Castello di Amorosa 2011 King Ridge Vineyard P...</td>\n",
       "      <td>Pinot Noir</td>\n",
       "      <td>Castello di Amorosa</td>\n",
       "      <td>[ 3.41687761e-02 -8.85365382e-02  4.35957499e-...</td>\n",
       "      <td>0.044113</td>\n",
       "      <td>0.081238</td>\n",
       "      <td>23.426754</td>\n",
       "      <td>23.644087</td>\n",
       "    </tr>\n",
       "    <tr>\n",
       "      <th>4</th>\n",
       "      <td>35</td>\n",
       "      <td>US</td>\n",
       "      <td>As with many of the Erath 2010 vineyard design...</td>\n",
       "      <td>Hyland</td>\n",
       "      <td>86</td>\n",
       "      <td>50.0</td>\n",
       "      <td>Oregon</td>\n",
       "      <td>McMinnville</td>\n",
       "      <td>Willamette Valley</td>\n",
       "      <td>Paul Gregutt</td>\n",
       "      <td>@paulgwine</td>\n",
       "      <td>Erath 2010 Hyland Pinot Noir (McMinnville)</td>\n",
       "      <td>Pinot Noir</td>\n",
       "      <td>Erath</td>\n",
       "      <td>[-4.40932214e-02 -1.40055548e-02 -2.32350472e-...</td>\n",
       "      <td>0.238014</td>\n",
       "      <td>-0.137409</td>\n",
       "      <td>77.911660</td>\n",
       "      <td>-26.103962</td>\n",
       "    </tr>\n",
       "  </tbody>\n",
       "</table>\n",
       "</div>"
      ],
      "text/plain": [
       "   Unnamed: 0 country                                        description  \\\n",
       "0           4      US  Much like the regular bottling from 2012, this...   \n",
       "1          10      US  Soft, supple plum envelopes an oaky structure ...   \n",
       "2          23      US  This wine from the Geneseo district offers aro...   \n",
       "3          25      US  Oak and earth intermingle around robust aromas...   \n",
       "4          35      US  As with many of the Erath 2010 vineyard design...   \n",
       "\n",
       "                          designation  points  price    province  \\\n",
       "0  Vintner's Reserve Wild Child Block      87   65.0      Oregon   \n",
       "1                      Mountain Cuvée      87   19.0  California   \n",
       "2                 Signature Selection      87   22.0  California   \n",
       "3                 King Ridge Vineyard      87   69.0  California   \n",
       "4                              Hyland      86   50.0      Oregon   \n",
       "\n",
       "            region_1           region_2     taster_name taster_twitter_handle  \\\n",
       "0  Willamette Valley  Willamette Valley    Paul Gregutt           @paulgwine    \n",
       "1        Napa Valley               Napa  Virginie Boone               @vboone   \n",
       "2        Paso Robles      Central Coast   Matt Kettmann         @mattkettmann   \n",
       "3       Sonoma Coast             Sonoma  Virginie Boone               @vboone   \n",
       "4        McMinnville  Willamette Valley    Paul Gregutt           @paulgwine    \n",
       "\n",
       "                                               title             variety  \\\n",
       "0  Sweet Cheeks 2012 Vintner's Reserve Wild Child...          Pinot Noir   \n",
       "1  Kirkland Signature 2011 Mountain Cuvée Caberne...  Cabernet Sauvignon   \n",
       "2  Bianchi 2011 Signature Selection Merlot (Paso ...              Merlot   \n",
       "3  Castello di Amorosa 2011 King Ridge Vineyard P...          Pinot Noir   \n",
       "4         Erath 2010 Hyland Pinot Noir (McMinnville)          Pinot Noir   \n",
       "\n",
       "                winery                                          embedding  \\\n",
       "0         Sweet Cheeks  [-3.17193456e-02  6.15179986e-02 -3.06415521e-...   \n",
       "1   Kirkland Signature  [ 4.91408370e-02 -9.19872969e-02 -2.56193969e-...   \n",
       "2              Bianchi  [ 2.79283989e-02 -4.42790389e-02 -1.00948021e-...   \n",
       "3  Castello di Amorosa  [ 3.41687761e-02 -8.85365382e-02  4.35957499e-...   \n",
       "4                Erath  [-4.40932214e-02 -1.40055548e-02 -2.32350472e-...   \n",
       "\n",
       "      pca_x     pca_y     tsne_x     tsne_y  \n",
       "0 -0.265071 -0.045110 -44.432747 -20.789902  \n",
       "1  0.266994 -0.159955  49.794857 -19.789526  \n",
       "2  0.157790  0.126469  29.948954  13.420984  \n",
       "3  0.044113  0.081238  23.426754  23.644087  \n",
       "4  0.238014 -0.137409  77.911660 -26.103962  "
      ]
     },
     "execution_count": 4,
     "metadata": {},
     "output_type": "execute_result"
    }
   ],
   "source": [
    "wine_data = pd.read_csv(parent + '/data/wine_df_emb_nona_nosam.csv', sep=',')\n",
    "wine_data.head()\n"
   ]
  },
  {
   "cell_type": "code",
   "execution_count": 3,
   "id": "4d5a18b4",
   "metadata": {},
   "outputs": [
    {
     "data": {
      "text/plain": [
       "designation\n",
       "Estate                             809\n",
       "Reserve                            749\n",
       "Estate Grown                       370\n",
       "Rosé of                            135\n",
       "Old Vine                           122\n",
       "                                  ... \n",
       "Alatus Blend                         1\n",
       "Broken Axle Stagecoach Vineyard      1\n",
       "Jon Boat                             1\n",
       "Justice                              1\n",
       "Ruben's Blend                        1\n",
       "Name: count, Length: 9515, dtype: int64"
      ]
     },
     "execution_count": 3,
     "metadata": {},
     "output_type": "execute_result"
    }
   ],
   "source": [
    "wine_data[\"designation\"].value_counts()"
   ]
  },
  {
   "cell_type": "code",
   "execution_count": 4,
   "id": "1a1bbb23",
   "metadata": {},
   "outputs": [
    {
     "data": {
      "text/plain": [
       "variety\n",
       "Pinot Noir                4788\n",
       "Chardonnay                2407\n",
       "Cabernet Sauvignon        2372\n",
       "Red Blend                 1803\n",
       "Syrah                     1678\n",
       "                          ... \n",
       "Falanghina                   1\n",
       "Chardonnay-Pinot Blanc       1\n",
       "Nero d'Avola                 1\n",
       "Tannat-Syrah                 1\n",
       "Rosado                       1\n",
       "Name: count, Length: 183, dtype: int64"
      ]
     },
     "execution_count": 4,
     "metadata": {},
     "output_type": "execute_result"
    }
   ],
   "source": [
    "wine_data[\"variety\"].value_counts()"
   ]
  },
  {
   "cell_type": "markdown",
   "id": "58d31f80",
   "metadata": {},
   "source": [
    "## Plot 3, option B"
   ]
  },
  {
   "cell_type": "code",
   "execution_count": 17,
   "id": "35505b8a",
   "metadata": {},
   "outputs": [],
   "source": [
    "wineries = {name : i for i, name in enumerate(wine_data[\"winery\"].unique(), 0)}"
   ]
  },
  {
   "cell_type": "code",
   "execution_count": 18,
   "id": "4ed4c8e1",
   "metadata": {},
   "outputs": [],
   "source": [
    "variety_dict = {name : np.zeros(2791) for name in wine_data[\"variety\"].unique()}\n",
    "variety_dict_keys = list(variety_dict.keys())\n",
    "for row in wine_data[[\"variety\", \"winery\"]].itertuples():\n",
    "    variety_dict[row.variety][wineries[row.winery]] += 1\n",
    "for key in variety_dict.keys():\n",
    "    variety_dict[key] = variety_dict[key] / np.sum(variety_dict[key])"
   ]
  },
  {
   "cell_type": "code",
   "execution_count": 19,
   "id": "211bd081",
   "metadata": {},
   "outputs": [],
   "source": [
    "mat_size = len(variety_dict)\n",
    "similarity_matrix = np.empty((mat_size, mat_size))\n",
    "for i in range(mat_size):\n",
    "    for j in range(mat_size):\n",
    "        value_1 = variety_dict[variety_dict_keys[i]].reshape(1, -1)\n",
    "        value_2 = variety_dict[variety_dict_keys[j]].reshape(-1, 1)\n",
    "        similarity_matrix[i, j] = (value_1 @ value_2)[0,0]/(np.linalg.norm(value_1) * np.linalg.norm(value_2))\n"
   ]
  },
  {
   "cell_type": "code",
   "execution_count": 20,
   "id": "9a2603b0",
   "metadata": {},
   "outputs": [
    {
     "data": {
      "image/png": "[encoded data removed]",
      "text/plain": [
       "<Figure size 640x480 with 1 Axes>"
      ]
     },
     "metadata": {},
     "output_type": "display_data"
    }
   ],
   "source": [
    "dist_mat = similarity_matrix.reshape(-1)\n",
    "plt.hist(dist_mat, range = (0.2, 1))\n",
    "plt.show()"
   ]
  },
  {
   "cell_type": "code",
   "execution_count": 55,
   "id": "3dd44d87",
   "metadata": {},
   "outputs": [],
   "source": [
    "prices = wine_data[[\"variety\", \"price\"]].groupby(\"variety\").agg('mean')\n",
    "bins = [8, 25, 50, 80]\n",
    "clusters = pd.cut(prices[\"price\"], bins, labels = [\"cheap\", \"normal\", \"expensive\"])\n"
   ]
  },
  {
   "cell_type": "code",
   "execution_count": 56,
   "id": "255a9926",
   "metadata": {},
   "outputs": [
    {
     "data": {
      "image/png": "[encoded data removed]",
      "text/plain": [
       "<Figure size 640x480 with 1 Axes>"
      ]
     },
     "metadata": {},
     "output_type": "display_data"
    }
   ],
   "source": [
    "plt.hist(prices, bins = 20)\n",
    "plt.show()"
   ]
  },
  {
   "cell_type": "code",
   "execution_count": 58,
   "id": "033667a5",
   "metadata": {},
   "outputs": [
    {
     "name": "stdout",
     "output_type": "stream",
     "text": [
      "[{'source': 0, 'target': 16, 'value': 36}, {'source': 0, 'target': 20, 'value': 7}, {'source': 0, 'target': 30, 'value': 9}, {'source': 1, 'target': 2, 'value': 34}, {'source': 1, 'target': 3, 'value': 11}, {'source': 1, 'target': 4, 'value': 19}, {'source': 1, 'target': 5, 'value': 12}, {'source': 1, 'target': 8, 'value': 17}, {'source': 1, 'target': 13, 'value': 10}, {'source': 1, 'target': 14, 'value': 3}, {'source': 1, 'target': 16, 'value': 14}, {'source': 1, 'target': 27, 'value': 13}, {'source': 1, 'target': 32, 'value': 4}, {'source': 1, 'target': 83, 'value': 1}, {'source': 1, 'target': 105, 'value': 2}, {'source': 2, 'target': 1, 'value': 34}, {'source': 2, 'target': 3, 'value': 7}, {'source': 2, 'target': 4, 'value': 17}, {'source': 2, 'target': 5, 'value': 5}, {'source': 2, 'target': 8, 'value': 12}, {'source': 2, 'target': 9, 'value': 8}, {'source': 2, 'target': 13, 'value': 4}, {'source': 2, 'target': 14, 'value': 15}, {'source': 2, 'target': 16, 'value': 16}, {'source': 2, 'target': 27, 'value': 12}, {'source': 2, 'target': 83, 'value': 12}, {'source': 2, 'target': 89, 'value': 4}, {'source': 2, 'target': 105, 'value': 14}, {'source': 2, 'target': 114, 'value': 18}, {'source': 3, 'target': 1, 'value': 11}, {'source': 3, 'target': 2, 'value': 7}, {'source': 3, 'target': 5, 'value': 6}, {'source': 3, 'target': 8, 'value': 7}, {'source': 3, 'target': 27, 'value': 14}, {'source': 3, 'target': 32, 'value': 11}, {'source': 4, 'target': 1, 'value': 19}, {'source': 4, 'target': 2, 'value': 17}, {'source': 4, 'target': 13, 'value': 1}, {'source': 4, 'target': 16, 'value': 12}, {'source': 4, 'target': 27, 'value': 1}, {'source': 4, 'target': 83, 'value': 4}, {'source': 4, 'target': 105, 'value': 6}, {'source': 5, 'target': 1, 'value': 12}, {'source': 5, 'target': 2, 'value': 5}, {'source': 5, 'target': 3, 'value': 6}, {'source': 5, 'target': 8, 'value': 21}, {'source': 5, 'target': 13, 'value': 7}, {'source': 5, 'target': 27, 'value': 8}, {'source': 5, 'target': 43, 'value': 7}, {'source': 6, 'target': 7, 'value': 4}, {'source': 6, 'target': 32, 'value': 4}, {'source': 7, 'target': 6, 'value': 4}, {'source': 7, 'target': 132, 'value': 3}, {'source': 8, 'target': 1, 'value': 17}, {'source': 8, 'target': 2, 'value': 12}, {'source': 8, 'target': 3, 'value': 7}, {'source': 8, 'target': 5, 'value': 21}, {'source': 8, 'target': 10, 'value': 3}, {'source': 8, 'target': 12, 'value': 8}, {'source': 8, 'target': 13, 'value': 14}, {'source': 8, 'target': 18, 'value': 24}, {'source': 8, 'target': 25, 'value': 6}, {'source': 8, 'target': 27, 'value': 13}, {'source': 8, 'target': 29, 'value': 6}, {'source': 8, 'target': 40, 'value': 5}, {'source': 8, 'target': 70, 'value': 1}, {'source': 9, 'target': 2, 'value': 8}, {'source': 9, 'target': 98, 'value': 6}, {'source': 9, 'target': 114, 'value': 4}, {'source': 10, 'target': 8, 'value': 3}, {'source': 10, 'target': 13, 'value': 17}, {'source': 10, 'target': 19, 'value': 4}, {'source': 10, 'target': 22, 'value': 6}, {'source': 10, 'target': 25, 'value': 2}, {'source': 10, 'target': 27, 'value': 11}, {'source': 10, 'target': 29, 'value': 1}, {'source': 10, 'target': 57, 'value': 5}, {'source': 11, 'target': 12, 'value': 2}, {'source': 11, 'target': 35, 'value': 7}, {'source': 11, 'target': 90, 'value': 1}, {'source': 12, 'target': 8, 'value': 8}, {'source': 12, 'target': 11, 'value': 2}, {'source': 12, 'target': 13, 'value': 17}, {'source': 12, 'target': 15, 'value': 1}, {'source': 12, 'target': 18, 'value': 4}, {'source': 12, 'target': 22, 'value': 3}, {'source': 12, 'target': 29, 'value': 4}, {'source': 12, 'target': 38, 'value': 24}, {'source': 12, 'target': 50, 'value': 11}, {'source': 13, 'target': 1, 'value': 10}, {'source': 13, 'target': 2, 'value': 4}, {'source': 13, 'target': 4, 'value': 1}, {'source': 13, 'target': 5, 'value': 7}, {'source': 13, 'target': 8, 'value': 14}, {'source': 13, 'target': 10, 'value': 17}, {'source': 13, 'target': 12, 'value': 17}, {'source': 13, 'target': 22, 'value': 17}, {'source': 13, 'target': 27, 'value': 8}, {'source': 13, 'target': 29, 'value': 7}, {'source': 13, 'target': 31, 'value': 11}, {'source': 13, 'target': 44, 'value': 12}, {'source': 13, 'target': 50, 'value': 7}, {'source': 13, 'target': 58, 'value': 11}, {'source': 13, 'target': 100, 'value': 3}, {'source': 14, 'target': 1, 'value': 3}, {'source': 14, 'target': 2, 'value': 15}, {'source': 14, 'target': 16, 'value': 6}, {'source': 14, 'target': 17, 'value': 1}, {'source': 14, 'target': 28, 'value': 9}, {'source': 14, 'target': 47, 'value': 18}, {'source': 14, 'target': 114, 'value': 10}, {'source': 15, 'target': 12, 'value': 1}, {'source': 15, 'target': 41, 'value': 2}, {'source': 16, 'target': 0, 'value': 36}, {'source': 16, 'target': 1, 'value': 14}, {'source': 16, 'target': 2, 'value': 16}, {'source': 16, 'target': 4, 'value': 12}, {'source': 16, 'target': 14, 'value': 6}, {'source': 16, 'target': 83, 'value': 3}, {'source': 16, 'target': 105, 'value': 6}, {'source': 17, 'target': 14, 'value': 1}, {'source': 17, 'target': 78, 'value': 2}, {'source': 18, 'target': 8, 'value': 24}, {'source': 18, 'target': 12, 'value': 4}, {'source': 18, 'target': 25, 'value': 1}, {'source': 18, 'target': 27, 'value': 2}, {'source': 18, 'target': 29, 'value': 3}, {'source': 18, 'target': 40, 'value': 12}, {'source': 18, 'target': 62, 'value': 6}, {'source': 19, 'target': 10, 'value': 4}, {'source': 19, 'target': 63, 'value': 9}, {'source': 19, 'target': 66, 'value': 11}, {'source': 19, 'target': 76, 'value': 5}, {'source': 19, 'target': 108, 'value': 12}, {'source': 19, 'target': 127, 'value': 35}, {'source': 20, 'target': 0, 'value': 7}, {'source': 20, 'target': 30, 'value': 2}, {'source': 20, 'target': 47, 'value': 5}, {'source': 20, 'target': 71, 'value': 5}, {'source': 20, 'target': 107, 'value': 6}, {'source': 21, 'target': 40, 'value': 12}, {'source': 21, 'target': 62, 'value': 61}, {'source': 21, 'target': 77, 'value': 24}, {'source': 21, 'target': 93, 'value': 70}, {'source': 22, 'target': 10, 'value': 6}, {'source': 22, 'target': 12, 'value': 3}, {'source': 22, 'target': 13, 'value': 17}, {'source': 23, 'target': 115, 'value': 1}, {'source': 24, 'target': 99, 'value': 37}, {'source': 25, 'target': 8, 'value': 6}, {'source': 25, 'target': 10, 'value': 2}, {'source': 25, 'target': 18, 'value': 1}, {'source': 25, 'target': 27, 'value': 8}, {'source': 25, 'target': 73, 'value': 5}, {'source': 25, 'target': 74, 'value': 5}, {'source': 26, 'target': 91, 'value': 12}, {'source': 26, 'target': 117, 'value': 12}, {'source': 27, 'target': 1, 'value': 13}, {'source': 27, 'target': 2, 'value': 12}, {'source': 27, 'target': 3, 'value': 14}, {'source': 27, 'target': 4, 'value': 1}, {'source': 27, 'target': 5, 'value': 8}, {'source': 27, 'target': 8, 'value': 13}, {'source': 27, 'target': 10, 'value': 11}, {'source': 27, 'target': 13, 'value': 8}, {'source': 27, 'target': 18, 'value': 2}, {'source': 27, 'target': 25, 'value': 8}, {'source': 27, 'target': 32, 'value': 2}, {'source': 28, 'target': 14, 'value': 9}, {'source': 28, 'target': 47, 'value': 18}, {'source': 29, 'target': 8, 'value': 6}, {'source': 29, 'target': 10, 'value': 1}, {'source': 29, 'target': 12, 'value': 4}, {'source': 29, 'target': 13, 'value': 7}, {'source': 29, 'target': 18, 'value': 3}, {'source': 29, 'target': 132, 'value': 1}, {'source': 30, 'target': 0, 'value': 9}, {'source': 30, 'target': 20, 'value': 2}, {'source': 31, 'target': 13, 'value': 11}, {'source': 31, 'target': 44, 'value': 37}, {'source': 32, 'target': 1, 'value': 4}, {'source': 32, 'target': 3, 'value': 11}, {'source': 32, 'target': 6, 'value': 4}, {'source': 32, 'target': 27, 'value': 2}, {'source': 32, 'target': 95, 'value': 3}, {'source': 33, 'target': 74, 'value': 47}, {'source': 33, 'target': 85, 'value': 4}, {'source': 34, 'target': 111, 'value': 8}, {'source': 35, 'target': 11, 'value': 7}, {'source': 35, 'target': 60, 'value': 34}, {'source': 35, 'target': 86, 'value': 14}, {'source': 36, 'target': 51, 'value': 1}, {'source': 36, 'target': 116, 'value': 1}, {'source': 37, 'target': 132, 'value': 12}, {'source': 38, 'target': 12, 'value': 24}, {'source': 39, 'target': 54, 'value': 2}, {'source': 39, 'target': 80, 'value': 2}, {'source': 40, 'target': 8, 'value': 5}, {'source': 40, 'target': 18, 'value': 12}, {'source': 40, 'target': 21, 'value': 12}, {'source': 40, 'target': 51, 'value': 4}, {'source': 40, 'target': 62, 'value': 28}, {'source': 40, 'target': 65, 'value': 8}, {'source': 40, 'target': 77, 'value': 6}, {'source': 40, 'target': 93, 'value': 16}, {'source': 40, 'target': 103, 'value': 14}, {'source': 40, 'target': 104, 'value': 5}, {'source': 40, 'target': 116, 'value': 16}, {'source': 40, 'target': 119, 'value': 16}, {'source': 41, 'target': 15, 'value': 2}, {'source': 41, 'target': 58, 'value': 7}, {'source': 41, 'target': 109, 'value': 12}, {'source': 41, 'target': 128, 'value': 29}, {'source': 42, 'target': 43, 'value': 4}, {'source': 43, 'target': 5, 'value': 7}, {'source': 43, 'target': 42, 'value': 4}, {'source': 43, 'target': 81, 'value': 3}, {'source': 43, 'target': 95, 'value': 10}, {'source': 43, 'target': 113, 'value': 48}, {'source': 44, 'target': 13, 'value': 12}, {'source': 44, 'target': 31, 'value': 37}, {'source': 44, 'target': 69, 'value': 5}, {'source': 45, 'target': 46, 'value': 2}, {'source': 45, 'target': 124, 'value': 15}, {'source': 46, 'target': 45, 'value': 2}, {'source': 46, 'target': 73, 'value': 23}, {'source': 46, 'target': 82, 'value': 10}, {'source': 46, 'target': 92, 'value': 14}, {'source': 46, 'target': 124, 'value': 25}, {'source': 47, 'target': 14, 'value': 18}, {'source': 47, 'target': 20, 'value': 5}, {'source': 47, 'target': 28, 'value': 18}, {'source': 48, 'target': 56, 'value': 22}, {'source': 48, 'target': 114, 'value': 49}, {'source': 49, 'target': 131, 'value': 6}, {'source': 50, 'target': 12, 'value': 11}, {'source': 50, 'target': 13, 'value': 7}, {'source': 50, 'target': 69, 'value': 7}, {'source': 50, 'target': 87, 'value': 23}, {'source': 51, 'target': 36, 'value': 1}, {'source': 51, 'target': 40, 'value': 4}, {'source': 51, 'target': 65, 'value': 21}, {'source': 51, 'target': 75, 'value': 7}, {'source': 51, 'target': 101, 'value': 7}, {'source': 51, 'target': 104, 'value': 18}, {'source': 51, 'target': 116, 'value': 33}, {'source': 51, 'target': 122, 'value': 18}, {'source': 51, 'target': 123, 'value': 4}, {'source': 51, 'target': 130, 'value': 33}, {'source': 52, 'target': 98, 'value': 1}, {'source': 52, 'target': 124, 'value': 1}, {'source': 53, 'target': 76, 'value': 29}, {'source': 54, 'target': 39, 'value': 2}, {'source': 54, 'target': 67, 'value': 4}, {'source': 54, 'target': 68, 'value': 4}, {'source': 55, 'target': 97, 'value': 25}, {'source': 56, 'target': 48, 'value': 22}, {'source': 56, 'target': 114, 'value': 11}, {'source': 57, 'target': 10, 'value': 5}, {'source': 58, 'target': 13, 'value': 11}, {'source': 58, 'target': 41, 'value': 7}, {'source': 58, 'target': 81, 'value': 34}, {'source': 58, 'target': 88, 'value': 4}, {'source': 58, 'target': 100, 'value': 11}, {'source': 58, 'target': 109, 'value': 9}, {'source': 59, 'target': 118, 'value': 48}, {'source': 60, 'target': 35, 'value': 34}, {'source': 60, 'target': 72, 'value': 4}, {'source': 60, 'target': 86, 'value': 3}, {'source': 60, 'target': 111, 'value': 9}, {'source': 61, 'target': 70, 'value': 1}, {'source': 61, 'target': 83, 'value': 8}, {'source': 61, 'target': 89, 'value': 1}, {'source': 61, 'target': 105, 'value': 11}, {'source': 62, 'target': 18, 'value': 6}, {'source': 62, 'target': 21, 'value': 61}, {'source': 62, 'target': 40, 'value': 28}, {'source': 62, 'target': 77, 'value': 24}, {'source': 62, 'target': 93, 'value': 70}, {'source': 63, 'target': 19, 'value': 9}, {'source': 63, 'target': 84, 'value': 7}, {'source': 63, 'target': 108, 'value': 21}, {'source': 63, 'target': 112, 'value': 16}, {'source': 63, 'target': 121, 'value': 12}, {'source': 63, 'target': 125, 'value': 21}, {'source': 63, 'target': 127, 'value': 16}, {'source': 64, 'target': 124, 'value': 9}, {'source': 65, 'target': 40, 'value': 8}, {'source': 65, 'target': 51, 'value': 21}, {'source': 65, 'target': 73, 'value': 5}, {'source': 65, 'target': 75, 'value': 19}, {'source': 65, 'target': 104, 'value': 35}, {'source': 65, 'target': 116, 'value': 58}, {'source': 66, 'target': 19, 'value': 11}, {'source': 66, 'target': 76, 'value': 7}, {'source': 66, 'target': 108, 'value': 9}, {'source': 66, 'target': 127, 'value': 31}, {'source': 67, 'target': 54, 'value': 4}, {'source': 68, 'target': 54, 'value': 4}, {'source': 69, 'target': 44, 'value': 5}, {'source': 69, 'target': 50, 'value': 7}, {'source': 70, 'target': 8, 'value': 1}, {'source': 70, 'target': 61, 'value': 1}, {'source': 70, 'target': 83, 'value': 26}, {'source': 70, 'target': 89, 'value': 14}, {'source': 70, 'target': 105, 'value': 31}, {'source': 71, 'target': 20, 'value': 5}, {'source': 71, 'target': 107, 'value': 78}, {'source': 72, 'target': 60, 'value': 4}, {'source': 72, 'target': 84, 'value': 2}, {'source': 72, 'target': 111, 'value': 21}, {'source': 73, 'target': 25, 'value': 5}, {'source': 73, 'target': 46, 'value': 23}, {'source': 73, 'target': 65, 'value': 5}, {'source': 73, 'target': 104, 'value': 3}, {'source': 73, 'target': 116, 'value': 12}, {'source': 73, 'target': 123, 'value': 23}, {'source': 74, 'target': 25, 'value': 5}, {'source': 74, 'target': 33, 'value': 47}, {'source': 75, 'target': 51, 'value': 7}, {'source': 75, 'target': 65, 'value': 19}, {'source': 75, 'target': 104, 'value': 16}, {'source': 75, 'target': 116, 'value': 31}, {'source': 76, 'target': 19, 'value': 5}, {'source': 76, 'target': 53, 'value': 29}, {'source': 76, 'target': 66, 'value': 7}, {'source': 76, 'target': 98, 'value': 21}, {'source': 76, 'target': 108, 'value': 4}, {'source': 76, 'target': 127, 'value': 21}, {'source': 76, 'target': 133, 'value': 7}, {'source': 77, 'target': 21, 'value': 24}, {'source': 77, 'target': 40, 'value': 6}, {'source': 77, 'target': 62, 'value': 24}, {'source': 77, 'target': 82, 'value': 2}, {'source': 77, 'target': 92, 'value': 5}, {'source': 77, 'target': 93, 'value': 29}, {'source': 78, 'target': 17, 'value': 2}, {'source': 78, 'target': 120, 'value': 21}, {'source': 79, 'target': 82, 'value': 14}, {'source': 79, 'target': 92, 'value': 18}, {'source': 80, 'target': 39, 'value': 2}, {'source': 81, 'target': 43, 'value': 3}, {'source': 81, 'target': 58, 'value': 34}, {'source': 81, 'target': 88, 'value': 25}, {'source': 82, 'target': 46, 'value': 10}, {'source': 82, 'target': 77, 'value': 2}, {'source': 82, 'target': 79, 'value': 14}, {'source': 82, 'target': 92, 'value': 70}, {'source': 83, 'target': 1, 'value': 1}, {'source': 83, 'target': 2, 'value': 12}, {'source': 83, 'target': 4, 'value': 4}, {'source': 83, 'target': 16, 'value': 3}, {'source': 83, 'target': 61, 'value': 8}, {'source': 83, 'target': 70, 'value': 26}, {'source': 83, 'target': 89, 'value': 41}, {'source': 83, 'target': 105, 'value': 71}, {'source': 84, 'target': 63, 'value': 7}, {'source': 84, 'target': 72, 'value': 2}, {'source': 84, 'target': 111, 'value': 7}, {'source': 84, 'target': 125, 'value': 24}, {'source': 85, 'target': 33, 'value': 4}, {'source': 86, 'target': 35, 'value': 14}, {'source': 86, 'target': 60, 'value': 3}, {'source': 87, 'target': 50, 'value': 23}, {'source': 88, 'target': 58, 'value': 4}, {'source': 88, 'target': 81, 'value': 25}, {'source': 89, 'target': 2, 'value': 4}, {'source': 89, 'target': 61, 'value': 1}, {'source': 89, 'target': 70, 'value': 14}, {'source': 89, 'target': 83, 'value': 41}, {'source': 89, 'target': 105, 'value': 47}, {'source': 90, 'target': 11, 'value': 1}, {'source': 91, 'target': 26, 'value': 12}, {'source': 92, 'target': 46, 'value': 14}, {'source': 92, 'target': 77, 'value': 5}, {'source': 92, 'target': 79, 'value': 18}, {'source': 92, 'target': 82, 'value': 70}, {'source': 93, 'target': 21, 'value': 70}, {'source': 93, 'target': 40, 'value': 16}, {'source': 93, 'target': 62, 'value': 70}, {'source': 93, 'target': 77, 'value': 29}, {'source': 94, 'target': 106, 'value': 51}, {'source': 95, 'target': 32, 'value': 3}, {'source': 95, 'target': 43, 'value': 10}, {'source': 96, 'target': 126, 'value': 81}, {'source': 97, 'target': 55, 'value': 25}, {'source': 98, 'target': 9, 'value': 6}, {'source': 98, 'target': 52, 'value': 1}, {'source': 98, 'target': 76, 'value': 21}, {'source': 99, 'target': 24, 'value': 37}, {'source': 100, 'target': 13, 'value': 3}, {'source': 100, 'target': 58, 'value': 11}, {'source': 101, 'target': 51, 'value': 7}, {'source': 101, 'target': 122, 'value': 16}, {'source': 101, 'target': 129, 'value': 16}, {'source': 101, 'target': 130, 'value': 31}, {'source': 102, 'target': 129, 'value': 51}, {'source': 103, 'target': 40, 'value': 14}, {'source': 104, 'target': 40, 'value': 5}, {'source': 104, 'target': 51, 'value': 18}, {'source': 104, 'target': 65, 'value': 35}, {'source': 104, 'target': 73, 'value': 3}, {'source': 104, 'target': 75, 'value': 16}, {'source': 104, 'target': 116, 'value': 51}, {'source': 105, 'target': 1, 'value': 2}, {'source': 105, 'target': 2, 'value': 14}, {'source': 105, 'target': 4, 'value': 6}, {'source': 105, 'target': 16, 'value': 6}, {'source': 105, 'target': 61, 'value': 11}, {'source': 105, 'target': 70, 'value': 31}, {'source': 105, 'target': 83, 'value': 71}, {'source': 105, 'target': 89, 'value': 47}, {'source': 106, 'target': 94, 'value': 51}, {'source': 107, 'target': 20, 'value': 6}, {'source': 107, 'target': 71, 'value': 78}, {'source': 108, 'target': 19, 'value': 12}, {'source': 108, 'target': 63, 'value': 21}, {'source': 108, 'target': 66, 'value': 9}, {'source': 108, 'target': 76, 'value': 4}, {'source': 108, 'target': 121, 'value': 32}, {'source': 108, 'target': 125, 'value': 14}, {'source': 108, 'target': 127, 'value': 38}, {'source': 109, 'target': 41, 'value': 12}, {'source': 109, 'target': 58, 'value': 9}, {'source': 109, 'target': 128, 'value': 6}, {'source': 110, 'target': 115, 'value': 16}, {'source': 111, 'target': 34, 'value': 8}, {'source': 111, 'target': 60, 'value': 9}, {'source': 111, 'target': 72, 'value': 21}, {'source': 111, 'target': 84, 'value': 7}, {'source': 112, 'target': 63, 'value': 16}, {'source': 113, 'target': 43, 'value': 48}, {'source': 114, 'target': 2, 'value': 18}, {'source': 114, 'target': 9, 'value': 4}, {'source': 114, 'target': 14, 'value': 10}, {'source': 114, 'target': 48, 'value': 49}, {'source': 114, 'target': 56, 'value': 11}, {'source': 115, 'target': 23, 'value': 1}, {'source': 115, 'target': 110, 'value': 16}, {'source': 116, 'target': 36, 'value': 1}, {'source': 116, 'target': 40, 'value': 16}, {'source': 116, 'target': 51, 'value': 33}, {'source': 116, 'target': 65, 'value': 58}, {'source': 116, 'target': 73, 'value': 12}, {'source': 116, 'target': 75, 'value': 31}, {'source': 116, 'target': 104, 'value': 51}, {'source': 117, 'target': 26, 'value': 12}, {'source': 118, 'target': 59, 'value': 48}, {'source': 119, 'target': 40, 'value': 16}, {'source': 120, 'target': 78, 'value': 21}, {'source': 121, 'target': 63, 'value': 12}, {'source': 121, 'target': 108, 'value': 32}, {'source': 121, 'target': 125, 'value': 32}, {'source': 122, 'target': 51, 'value': 18}, {'source': 122, 'target': 101, 'value': 16}, {'source': 122, 'target': 130, 'value': 51}, {'source': 123, 'target': 51, 'value': 4}, {'source': 123, 'target': 73, 'value': 23}, {'source': 124, 'target': 45, 'value': 15}, {'source': 124, 'target': 46, 'value': 25}, {'source': 124, 'target': 52, 'value': 1}, {'source': 124, 'target': 64, 'value': 9}, {'source': 125, 'target': 63, 'value': 21}, {'source': 125, 'target': 84, 'value': 24}, {'source': 125, 'target': 108, 'value': 14}, {'source': 125, 'target': 121, 'value': 32}, {'source': 126, 'target': 96, 'value': 81}, {'source': 127, 'target': 19, 'value': 35}, {'source': 127, 'target': 63, 'value': 16}, {'source': 127, 'target': 66, 'value': 31}, {'source': 127, 'target': 76, 'value': 21}, {'source': 127, 'target': 108, 'value': 38}, {'source': 128, 'target': 41, 'value': 29}, {'source': 128, 'target': 109, 'value': 6}, {'source': 129, 'target': 101, 'value': 16}, {'source': 129, 'target': 102, 'value': 51}, {'source': 130, 'target': 51, 'value': 33}, {'source': 130, 'target': 101, 'value': 31}, {'source': 130, 'target': 122, 'value': 51}, {'source': 131, 'target': 49, 'value': 6}, {'source': 132, 'target': 7, 'value': 3}, {'source': 132, 'target': 29, 'value': 1}, {'source': 132, 'target': 37, 'value': 12}, {'source': 133, 'target': 76, 'value': 7}]\n",
      "[[1.         0.05274361 0.02195964 ... 0.         0.00732842 0.        ]\n",
      " [0.05274361 1.         0.53385951 ... 0.03355308 0.         0.        ]\n",
      " [0.02195964 0.53385951 1.         ... 0.01838347 0.         0.        ]\n",
      " ...\n",
      " [0.         0.03355308 0.01838347 ... 1.         0.         0.        ]\n",
      " [0.00732842 0.         0.         ... 0.         1.         0.        ]\n",
      " [0.         0.         0.         ... 0.         0.         1.        ]]\n"
     ]
    }
   ],
   "source": [
    "import json\n",
    "price_labels = [clusters[key] for key in variety_dict_keys]\n",
    "json_nodes = []\n",
    "json_links = []\n",
    "current_i = 0\n",
    "diff = np.zeros(len(variety_dict_keys), dtype=int)\n",
    "current_node, past_node = 0, 0\n",
    "for (i, j), value in np.ndenumerate(similarity_matrix):\n",
    "    if(current_i != i):\n",
    "        current_i = i\n",
    "        if(past_node == current_node):\n",
    "            diff[i:] += 1\n",
    "            continue\n",
    "        past_node = current_node\n",
    "        json_nodes.append({'name' : variety_dict_keys[i-diff[i]], 'group' : price_labels[i-diff[i]]})\n",
    "    if(similarity_matrix[i, j] > 0.2 and i!=j):\n",
    "        current_node +=1\n",
    "for (i, j), value in np.ndenumerate(similarity_matrix):\n",
    "    if(similarity_matrix[i, j] > 0.2 and i!=j):\n",
    "        json_links.append({'source' : int(i-diff[i]), 'target' : int(j-diff[j]), \n",
    "                           'value' : int(100*(similarity_matrix[i, j] - 0.2)+1)})\n",
    "print(json_links)\n",
    "print(similarity_matrix)"
   ]
  },
  {
   "cell_type": "code",
   "execution_count": null,
   "id": "65922b97",
   "metadata": {},
   "outputs": [],
   "source": [
    "final_json = {\"links\" : json_links, \"nodes\" : json_nodes}\n",
    "output_file = open(parent + \"data/force_graph.json\", \"w\")\n",
    "json.dump(final_json, output_file)\n",
    "output_file.close()"
   ]
  },
  {
   "cell_type": "code",
   "execution_count": null,
   "id": "013102c6",
   "metadata": {},
   "outputs": [],
   "source": []
  }
 ],
 "metadata": {
  "kernelspec": {
   "display_name": "Python 3",
   "language": "python",
   "name": "python3"
  },
  "language_info": {
   "codemirror_mode": {
    "name": "ipython",
    "version": 3
   },
   "file_extension": ".py",
   "mimetype": "text/x-python",
   "name": "python",
   "nbconvert_exporter": "python",
   "pygments_lexer": "ipython3",
   "version": "3.12.0"
  }
 },
 "nbformat": 4,
 "nbformat_minor": 5
}
